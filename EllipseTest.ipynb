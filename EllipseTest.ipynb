{
 "cells": [
  {
   "cell_type": "code",
   "execution_count": 2,
   "metadata": {
    "collapsed": false
   },
   "outputs": [
    {
     "name": "stderr",
     "output_type": "stream",
     "text": [
      "/usr/users/spardy/miniconda3/envs/py2/lib/python2.7/site-packages/matplotlib/__init__.py:913: UserWarning: axes.color_cycle is deprecated and replaced with axes.prop_cycle; please use the latter.\n",
      "  warnings.warn(self.msg_depr % (key, alt_key))\n"
     ]
    }
   ],
   "source": [
    "import numpy as np\n",
    "from skimage import io, color, measure, draw, img_as_bool\n",
    "from scipy import optimize\n",
    "import EllipseFitter\n",
    "import matplotlib.pyplot as plt\n",
    "from matplotlib.patches import Ellipse\n",
    "\n",
    "%matplotlib inline"
   ]
  },
  {
   "cell_type": "code",
   "execution_count": 3,
   "metadata": {
    "collapsed": false
   },
   "outputs": [],
   "source": [
    "img = np.array([[0, 0, 0, 0, 0, 0, 0, 0, 0, 0],\n",
    "                [0, 0, 0, 0, 0, 0, 0, 0, 0, 0],\n",
    "                [0, 0, 0, 0, 0, 0, 0, 0, 0, 0],\n",
    "                [0, 0, 0, 1, 1, 1, 1, 1, 0, 0],\n",
    "                [0, 0, 1, 1, 1, 1, 1, 1, 1, 0],\n",
    "                [0, 0, 1, 1, 1, 1, 1, 1, 1, 0],\n",
    "                [0, 0, 1, 1, 1, 1, 1, 1, 1, 0],\n",
    "                [0, 0, 0, 1, 1, 1, 1, 1, 0, 0],\n",
    "                [0, 0, 0, 0, 0, 0, 0, 0, 0, 0],\n",
    "                [0, 0, 0, 0, 0, 0, 0, 0, 0, 0]])"
   ]
  },
  {
   "cell_type": "code",
   "execution_count": 4,
   "metadata": {
    "collapsed": false
   },
   "outputs": [
    {
     "name": "stdout",
     "output_type": "stream",
     "text": [
      "Optimization terminated successfully.\n",
      "         Current function value: -79.000000\n",
      "         Iterations: 17\n",
      "         Function evaluations: 78\n"
     ]
    },
    {
     "data": {
      "text/plain": [
       "<matplotlib.patches.Ellipse at 0x7f68b7cd0050>"
      ]
     },
     "execution_count": 4,
     "metadata": {},
     "output_type": "execute_result"
    },
    {
     "data": {
      "image/png": "[encoded data removed]",
      "text/plain": [
       "<matplotlib.figure.Figure at 0x7f68e9a86750>"
      ]
     },
     "metadata": {},
     "output_type": "display_data"
    }
   ],
   "source": [
    "#a = EllipseFitter.EllipseFitter(img)\n",
    "\n",
    "def cost(params):\n",
    "    x0, y0, rx, ry = params\n",
    "    coords = draw.ellipse(y0, x0, rx, ry, shape=img.shape)\n",
    "    template = np.zeros_like(img)\n",
    "    template[coords] = 1\n",
    "    return (-np.sum((template == img)))#+(np.sum(template != img)**2)\n",
    "\n",
    "x0, y0, rx, ry = optimize.fmin(cost, (4.0, 4.0, 4.0, 4.0))\n",
    "\n",
    "f, ax = plt.subplots()\n",
    "\n",
    "ellipse = Ellipse(xy=(x0, y0), width=rx, height=ry)\n",
    "#ellipse2 = Ellipse(xy=(a[3], a[4]), width=a[1], height=a[2])\n",
    "\n",
    "ax.imshow(img, cmap='gray', interpolation='nearest')\n",
    "ax.add_artist(ellipse)\n",
    "#ax.add_artist(ellipse2)\n"
   ]
  },
  {
   "cell_type": "code",
   "execution_count": 5,
   "metadata": {
    "collapsed": false
   },
   "outputs": [],
   "source": [
    "    img=np.array([[0,0,0,1,1,1,0,0,0],\n",
    "                  [0,0,1,1,1,1,1,0,0],\n",
    "                  [0,1,1,1,1,1,1,1,0],\n",
    "                  [1,1,1,1,1,1,1,1,1],\n",
    "                  [1,1,1,1,1,1,1,1,1],\n",
    "                  [1,1,1,1,1,1,1,1,1],\n",
    "                  [0,1,1,1,1,1,1,1,0],\n",
    "                  [0,0,1,1,1,1,1,0,0],\n",
    "                  [0,0,0,1,1,1,0,0,0]])"
   ]
  },
  {
   "cell_type": "code",
   "execution_count": 8,
   "metadata": {
    "collapsed": false
   },
   "outputs": [],
   "source": [
    "a = EllipseFitter.EllipseFitter(img)\n"
   ]
  },
  {
   "cell_type": "code",
   "execution_count": 10,
   "metadata": {
    "collapsed": false
   },
   "outputs": [
    {
     "data": {
      "text/plain": [
       "<matplotlib.patches.Ellipse at 0x7f68b74de290>"
      ]
     },
     "execution_count": 10,
     "metadata": {},
     "output_type": "execute_result"
    },
    {
     "data": {
      "image/png": "[encoded data removed]",
      "text/plain": [
       "<matplotlib.figure.Figure at 0x7f68b74de410>"
      ]
     },
     "metadata": {},
     "output_type": "display_data"
    }
   ],
   "source": [
    "fig, ax = plt.subplots(1)\n",
    "ellipse2 = Ellipse(xy=(a[3], a[4]), width=a[1], height=a[2])\n",
    "\n",
    "ax.imshow(img, cmap='gray', interpolation='nearest')\n",
    "ax.add_artist(ellipse2)"
   ]
  },
  {
   "cell_type": "code",
   "execution_count": null,
   "metadata": {
    "collapsed": true
   },
   "outputs": [],
   "source": []
  }
 ],
 "metadata": {
  "kernelspec": {
   "display_name": "Python 2",
   "language": "python",
   "name": "python2"
  },
  "toc": {
   "toc_cell": false,
   "toc_number_sections": true,
   "toc_threshold": 4,
   "toc_window_display": false
  }
 },
 "nbformat": 4,
 "nbformat_minor": 0
}
