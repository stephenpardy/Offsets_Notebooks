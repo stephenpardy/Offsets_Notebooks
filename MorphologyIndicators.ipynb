{
 "cells": [
  {
   "cell_type": "code",
   "execution_count": 1,
   "metadata": {
    "collapsed": false
   },
   "outputs": [
    {
     "name": "stderr",
     "output_type": "stream",
     "text": [
      "/usr/users/spardy/.local/lib/python2.7/site-packages/matplotlib/__init__.py:1318: UserWarning:  This call to matplotlib.use() has no effect\n",
      "because the backend has already been chosen;\n",
      "matplotlib.use() must be called *before* pylab, matplotlib.pyplot,\n",
      "or matplotlib.backends is imported for the first time.\n",
      "\n",
      "  warnings.warn(_use_error_msg)\n"
     ]
    }
   ],
   "source": [
    "import matplotlib.pyplot as plt\n",
    "from snaptools import plot_tools\n",
    "import numpy as np\n",
    "\n",
    "from mpl_toolkits.axes_grid1 import Grid\n",
    "from mpl_toolkits.axes_grid1 import make_axes_locatable\n",
    "from matplotlib.patches import Ellipse\n",
    "import h5py\n",
    "import matplotlib.gridspec as gridspec\n",
    "import conversions as co\n",
    "import matplotlib.patheffects as PathEffects\n",
    "from mpl_toolkits.axes_grid1 import ImageGrid\n",
    "from snaptools import utils\n",
    "from snaptools import snapio\n",
    "from snaptools import CBcm\n",
    "from snaptools import manipulate\n",
    "from snaptools import simulation\n",
    "from functools import partial\n",
    "from scipy import ndimage\n",
    "from scipy import stats\n",
    "from scipy.ndimage import measurements as measure\n",
    "\n",
    "%matplotlib inline\n",
    "%load_ext autoreload\n",
    "%autoreload 2\n",
    "colors = ['#332288', '#CC6677', '#6699CC', '#117733']\n",
    "import matplotlib \n",
    "matplotlib.rc('xtick', labelsize=15) \n",
    "matplotlib.rc('ytick', labelsize=15) \n",
    "matplotlib.rc('lines', linewidth=3)"
   ]
  },
  {
   "cell_type": "code",
   "execution_count": 2,
   "metadata": {
    "collapsed": true
   },
   "outputs": [],
   "source": [
    "HernOffsets_new = h5py.File('../Data/offSetsHern_new.hdf5', 'r')\n",
    "DehnenOffsets_new = h5py.File('../Data/offSetsDehnen_new.hdf5', 'r')\n",
    "\n",
    "HernOffsets_continue = h5py.File('../Data/offSetsHern_continue.hdf5', 'r')\n",
    "DehnenOffsets_continue = h5py.File('../Data/offSetsDehnen_continue.hdf5', 'r')"
   ]
  },
  {
   "cell_type": "code",
   "execution_count": 3,
   "metadata": {
    "collapsed": false
   },
   "outputs": [],
   "source": [
    "dynamical_centers = DehnenOffsets_new['/stars/45deg/main/dynamical_center'][:]"
   ]
  },
  {
   "cell_type": "code",
   "execution_count": 4,
   "metadata": {
    "collapsed": true
   },
   "outputs": [],
   "source": [
    "IC_dyn_centers = DehnenOffsets_new['stars/IC/dynamical_center'][:]"
   ]
  },
  {
   "cell_type": "code",
   "execution_count": 8,
   "metadata": {
    "collapsed": true
   },
   "outputs": [],
   "source": [
    "ICfolder = \"/usr/users/spardy/coors2/working/Dehnen_LMC/\" +\\\n",
    "         \"stars2gas/output_stars2gas/\""
   ]
  },
  {
   "cell_type": "code",
   "execution_count": 9,
   "metadata": {
    "collapsed": true
   },
   "outputs": [],
   "source": [
    "folder = \"/usr/users/spardy/coors2/working/Dehnen_LMC/\" +\\\n",
    "         \"collisions_best/output_Dehnen_smc_45deg/\""
   ]
  },
  {
   "cell_type": "code",
   "execution_count": 10,
   "metadata": {
    "collapsed": true
   },
   "outputs": [],
   "source": [
    "cont_folder = \"/usr/users/spardy/coors2/working/Dehnen_LMC/\" +\\\n",
    "             \"collisions_best/Dehnen_smc_45deg_continue/output_Dehnen_smc_45deg/\""
   ]
  },
  {
   "cell_type": "code",
   "execution_count": 7,
   "metadata": {
    "collapsed": true
   },
   "outputs": [],
   "source": [
    "sim = simulation.Simulation(folder)\n",
    "ICsim = simulation.Simulation(ICfolder)"
   ]
  },
  {
   "cell_type": "code",
   "execution_count": 149,
   "metadata": {
    "collapsed": false,
    "parent_cell": true,
    "run_control": {
     "marked": false
    }
   },
   "outputs": [],
   "source": [
    "snapnum = 12\n",
    "snap = snapio.load_snap(folder+\"snap_{:03d}\".format(snapnum))\n",
    "snap.set_settings(first_only=True,\n",
    "                 com=True,\n",
    "                 xlen=10,\n",
    "                 ylen=10,\n",
    "                 NBINS=256,\n",
    "                 in_min=-0.2752,\n",
    "                 parttype='stars',\n",
    "                 halo_center_method='tree_halo',\n",
    "                 log_scale=False)\n",
    "com1, com2, idgal1, idgal2 = snap.center_of_mass('stars')\n",
    "xc = dynamical_centers[snapnum, 0] \n",
    "yc = dynamical_centers[snapnum, 1] \n",
    "zc = dynamical_centers[snapnum, 2] "
   ]
  },
  {
   "cell_type": "code",
   "execution_count": 150,
   "metadata": {
    "child_cell": true,
    "collapsed": false,
    "run_control": {
     "marked": false
    }
   },
   "outputs": [],
   "source": [
    "r = np.sort(np.sqrt(np.sum( (snap.pos['stars'][idgal1, :] - com1 - dynamical_centers[0, :])**2, axis=1)))"
   ]
  },
  {
   "cell_type": "markdown",
   "metadata": {
    "child_cell": true
   },
   "source": [
    "## Concentration"
   ]
  },
  {
   "cell_type": "code",
   "execution_count": 151,
   "metadata": {
    "child_cell": true,
    "collapsed": false,
    "run_control": {
     "marked": false
    }
   },
   "outputs": [
    {
     "name": "stdout",
     "output_type": "stream",
     "text": [
      "Concentration C = 2.22068\n"
     ]
    }
   ],
   "source": [
    "pmf = np.cumsum(r)\n",
    "tot_light = np.sum(r)\n",
    "where_80perc = np.argmin(np.abs(pmf - 0.8*tot_light))\n",
    "where_20perc = np.argmin(np.abs(pmf - 0.2*tot_light))\n",
    "c = 5.0*np.log10(r[where_80perc]/r[where_20perc])\n",
    "print \"Concentration C = {:g}\".format(c)"
   ]
  },
  {
   "cell_type": "code",
   "execution_count": 152,
   "metadata": {
    "child_cell": true,
    "collapsed": false,
    "scrolled": true
   },
   "outputs": [
    {
     "data": {
      "text/plain": [
       "<matplotlib.lines.Line2D at 0xc8eac90>"
      ]
     },
     "execution_count": 152,
     "metadata": {},
     "output_type": "execute_result"
    },
    {
     "data": {
      "image/png": "[encoded data removed]",
      "text/plain": [
       "<matplotlib.figure.Figure at 0xcd051d0>"
      ]
     },
     "metadata": {},
     "output_type": "display_data"
    }
   ],
   "source": [
    "plt.plot(r, np.cumsum(r)/np.sum(r))\n",
    "plt.axvline(x=r[where_80perc], zorder=-1)\n",
    "plt.axvline(x=r[where_20perc], zorder=-1)"
   ]
  },
  {
   "cell_type": "markdown",
   "metadata": {
    "child_cell": true
   },
   "source": [
    "## Asymmetry"
   ]
  },
  {
   "cell_type": "code",
   "execution_count": 153,
   "metadata": {
    "child_cell": true,
    "collapsed": false
   },
   "outputs": [],
   "source": [
    "bin_dict = snap.bin_snap()\n",
    "surface_density = bin_dict['Z2']\n",
    "centerx = (bin_dict['Z2x'][:-1] + bin_dict['Z2x'][1:]) / 2\n",
    "centery = (bin_dict['Z2y'][:-1] + bin_dict['Z2y'][1:]) / 2\n",
    "centerX, centerY = np.meshgrid(centerx, centery, indexing='ij')"
   ]
  },
  {
   "cell_type": "code",
   "execution_count": 154,
   "metadata": {
    "child_cell": true,
    "collapsed": false,
    "run_control": {
     "marked": false
    }
   },
   "outputs": [
    {
     "name": "stdout",
     "output_type": "stream",
     "text": [
      "Asymmetry A = 1.0272\n"
     ]
    }
   ],
   "source": [
    "A = np.nansum(np.abs(surface_density - np.rot90(surface_density, k=2))/np.nansum(np.abs(surface_density) ))\n",
    "print \"Asymmetry A = {:g}\".format(A)"
   ]
  },
  {
   "cell_type": "markdown",
   "metadata": {
    "child_cell": true,
    "parent_cell": true
   },
   "source": [
    "## Gini Coefficient"
   ]
  },
  {
   "cell_type": "code",
   "execution_count": 155,
   "metadata": {
    "child_cell": true,
    "collapsed": false,
    "run_control": {
     "marked": false
    }
   },
   "outputs": [
    {
     "name": "stdout",
     "output_type": "stream",
     "text": [
      "Gini coefficient G = 0.826168\n"
     ]
    }
   ],
   "source": [
    "XBar = np.nanmean(surface_density)\n",
    "sorted_values = np.sort(surface_density.flatten())\n",
    "n = len(sorted_values)\n",
    "gini = 1.0/(XBar*n*(n-1))*np.nansum((2.0*np.arange(n)-n-1.0)*sorted_values)\n",
    "print \"Gini coefficient G = {:g}\".format(gini)"
   ]
  },
  {
   "cell_type": "markdown",
   "metadata": {
    "child_cell": true
   },
   "source": [
    "## M20"
   ]
  },
  {
   "cell_type": "code",
   "execution_count": 156,
   "metadata": {
    "child_cell": true,
    "collapsed": false,
    "run_control": {
     "marked": false
    }
   },
   "outputs": [
    {
     "name": "stdout",
     "output_type": "stream",
     "text": [
      "M20 = -2.36608\n"
     ]
    }
   ],
   "source": [
    "good_ind = np.where(np.isfinite(surface_density))\n",
    "sort_ind = np.argsort(surface_density[good_ind].flatten())[::-1]\n",
    "xs = centerX[good_ind].flatten()[sort_ind]\n",
    "ys = centerY[good_ind].flatten()[sort_ind]\n",
    "sorted_values = surface_density[good_ind].flatten()[sort_ind]\n",
    "\n",
    "fi = np.cumsum(sorted_values)\n",
    "ftot = np.sum(sorted_values)\n",
    "\n",
    "twenty_perc = np.nanargmin(np.abs(fi - 0.2*ftot))\n",
    "Mi = (sorted_values*((xs - xc)**2 + (ys - yc)**2))\n",
    "M20 = np.log10(np.sum(Mi[:twenty_perc])/np.sum(Mi))\n",
    "print \"M20 = {:g}\".format(M20)"
   ]
  },
  {
   "cell_type": "code",
   "execution_count": 16,
   "metadata": {
    "collapsed": false
   },
   "outputs": [],
   "source": [
    "sim.set_settings(first_only=True,\n",
    "                 com=True,\n",
    "                 xlen=10,\n",
    "                 ylen=10,\n",
    "                 NBINS=256,\n",
    "                 in_min=-0.2752,\n",
    "                 parttype='stars',\n",
    "                 halo_center_method='tree_halo',\n",
    "                 log_scale=False)\n",
    "\n",
    "def measure_conc(snapname, dynamical_centers):\n",
    "    snap = snapio.load_snap(snapname)\n",
    "    return snap.measure_concentration(center=dynamical_centers)\n",
    " \n",
    "\n",
    "c_sim = sim.apply_function(measure_conc, dynamical_centers)    "
   ]
  },
  {
   "cell_type": "code",
   "execution_count": 167,
   "metadata": {
    "child_cell": false,
    "collapsed": false
   },
   "outputs": [],
   "source": [
    "sim.set_settings(first_only=True,\n",
    "                 com=True,\n",
    "                 xlen=10,\n",
    "                 ylen=10,\n",
    "                 NBINS=256,\n",
    "                 in_min=-0.2752,\n",
    "                 parttype='stars',\n",
    "                 halo_center_method='tree_halo',\n",
    "                 log_scale=False)\n",
    "\n",
    "def measure_m20(snapname, dynamical_centers):\n",
    "    snap = snapio.load_snap(snapname)\n",
    "    snap.set_settings(**sim.settings)\n",
    "    return snap.measure_m20(center=dynamical_centers)\n",
    " \n",
    "\n",
    "m20_sim = np.empty(82)\n",
    "for i in xrange(82):\n",
    "    snap = snapio.load_snap(folder+\"snap_{:03d}\".format(i))\n",
    "    snap.set_settings(first_only=True,\n",
    "                 com=True,\n",
    "                 xlen=10,\n",
    "                 ylen=10,\n",
    "                 NBINS=256,\n",
    "                 in_min=-0.2752,\n",
    "                 parttype='stars',\n",
    "                 halo_center_method='tree_halo',\n",
    "                 log_scale=False)\n",
    "    m20_sim[i] = snap.measure_m20(center=dynamical_centers[i, :])"
   ]
  },
  {
   "cell_type": "code",
   "execution_count": 11,
   "metadata": {
    "collapsed": false
   },
   "outputs": [],
   "source": [
    "sim.set_settings(first_only=True,\n",
    "                 com=True,\n",
    "                 xlen=10,\n",
    "                 ylen=10,\n",
    "                 NBINS=256,\n",
    "                 in_min=-0.2752,\n",
    "                 parttype='stars',\n",
    "                 halo_center_method='tree_halo',\n",
    "                 log_scale=False)\n",
    " \n",
    "a_sim = np.empty(82)\n",
    "for i in xrange(82):\n",
    "    snap = snapio.load_snap(folder+\"snap_{:03d}\".format(i))\n",
    "    snap.set_settings(first_only=True,\n",
    "                 com=True,\n",
    "                 xlen=10,\n",
    "                 ylen=10,\n",
    "                 NBINS=256,\n",
    "                 in_min=-0.2752,\n",
    "                 parttype='stars',\n",
    "                 halo_center_method='tree_halo',\n",
    "                 log_scale=False)\n",
    "    a_sim[i] = snap.measure_asymmetry()\n",
    "    \n",
    "a_ICsim = np.empty(82)\n",
    "for i in xrange(82):\n",
    "    snap = snapio.load_snap(ICfolder+\"snap_{:03d}\".format(i))\n",
    "    snap.set_settings(first_only=True,\n",
    "                 com=True,\n",
    "                 xlen=10,\n",
    "                 ylen=10,\n",
    "                 NBINS=256,\n",
    "                 in_min=-0.2752,\n",
    "                 parttype='stars',\n",
    "                 halo_center_method='tree_halo',\n",
    "                 log_scale=False)\n",
    "    a_ICsim[i] = snap.measure_asymmetry()\n",
    "    \n",
    "    \n",
    "a_contsim = np.empty(82)\n",
    "for i in xrange(82):\n",
    "    snap = snapio.load_snap(cont_folder+\"snap_{:03d}\".format(i))\n",
    "    snap.set_settings(first_only=True,\n",
    "                 com=True,\n",
    "                 xlen=10,\n",
    "                 ylen=10,\n",
    "                 NBINS=256,\n",
    "                 in_min=-0.2752,\n",
    "                 parttype='stars',\n",
    "                 halo_center_method='tree_halo',\n",
    "                 log_scale=False)\n",
    "    a_contsim[i] = snap.measure_asymmetry()"
   ]
  },
  {
   "cell_type": "code",
   "execution_count": 229,
   "metadata": {
    "collapsed": true
   },
   "outputs": [],
   "source": [
    "\n",
    "    \n",
    "gini_ICsim = np.empty(82)\n",
    "for i in xrange(82):\n",
    "    snap = snapio.load_snap(ICfolder+\"snap_{:03d}\".format(i))\n",
    "    gini_ICsim[i] = gini_petrosian(snap)\n",
    "    \n",
    "m20_ICsim = np.empty(82)\n",
    "for i in xrange(82):\n",
    "    snap = snapio.load_snap(ICfolder+\"snap_{:03d}\".format(i))\n",
    "    m20_ICsim[i] = m20_petrosian(snap, center=IC_dyn_centers[i, :])\n",
    "\n",
    "    \n",
    "ICsim.set_settings(first_only=True,\n",
    "                 com=True,\n",
    "                 xlen=10,\n",
    "                 ylen=10,\n",
    "                 NBINS=256,\n",
    "                 in_min=-0.2752,\n",
    "                 parttype='stars',\n",
    "                 halo_center_method='tree_halo',\n",
    "                 log_scale=False)\n",
    "    \n",
    "c_ICsim = ICsim.apply_function(measure_conc, IC_dyn_centers)  "
   ]
  },
  {
   "cell_type": "code",
   "execution_count": 211,
   "metadata": {
    "collapsed": false,
    "run_control": {
     "marked": false
    }
   },
   "outputs": [],
   "source": [
    "gini_sim = np.empty(82)\n",
    "for i in xrange(82):\n",
    "    snap = snapio.load_snap(folder+\"snap_{:03d}\".format(i))\n",
    "    gini_sim[i] = gini_petrosian(snap)\n"
   ]
  },
  {
   "cell_type": "code",
   "execution_count": 218,
   "metadata": {
    "collapsed": false
   },
   "outputs": [],
   "source": [
    "m20_sim = np.empty(82)\n",
    "for i in xrange(82):\n",
    "    snap = snapio.load_snap(folder+\"snap_{:03d}\".format(i))\n",
    "    m20_sim[i] = m20_petrosian(snap, center=dynamical_centers[i, :])"
   ]
  },
  {
   "cell_type": "code",
   "execution_count": 217,
   "metadata": {
    "collapsed": true
   },
   "outputs": [],
   "source": [
    "def m20_petrosian(snap, center=np.array([0, 0, 0])):\n",
    "    snap.set_settings(first_only=True,\n",
    "                 com=True,\n",
    "                 xlen=10,\n",
    "                 ylen=10,\n",
    "                 NBINS=256,\n",
    "                 in_min=-0.2752,\n",
    "                 parttype='stars',\n",
    "                 halo_center_method='tree_halo',\n",
    "                 log_scale=False)\n",
    "\n",
    "    bin_dict = snap.bin_snap()\n",
    "    centerx = (bin_dict['Z2x'][:-1] + bin_dict['Z2x'][1:]) / 2\n",
    "    centery = (bin_dict['Z2y'][:-1] + bin_dict['Z2y'][1:]) / 2\n",
    "    centerX, centerY = np.meshgrid(centerx, centery, indexing='ij')\n",
    "\n",
    "    centerR = np.sqrt(centerX**2 + centerY**2)\n",
    "    rsort = np.argsort(centerR.ravel())\n",
    "    n = 256\n",
    "    stat, bin_edges, binnumber = stats.binned_statistic(centerR.ravel()[rsort], bin_dict['Z2'].ravel()[rsort], bins=n)\n",
    "    avg_brightness = np.cumsum(stat)/(np.arange(n)+1)\n",
    "\n",
    "    brighter_pixels = np.where(avg_brightness*0.2-stat > 0)[0]\n",
    "    mu_rp = stat[brighter_pixels[0]]\n",
    "\n",
    "    surface_density = bin_dict['Z2']\n",
    "\n",
    "    gal_ind = np.where(surface_density > mu_rp)[0]\n",
    "\n",
    "    sort_ind = np.argsort(surface_density[gal_ind].ravel())[::-1]\n",
    "    xs = centerX[gal_ind].ravel()[sort_ind]\n",
    "    ys = centerY[gal_ind].ravel()[sort_ind]\n",
    "    sorted_values = surface_density[gal_ind].ravel()[sort_ind]\n",
    "\n",
    "    fi = np.cumsum(sorted_values)\n",
    "    ftot = np.sum(sorted_values)\n",
    "\n",
    "    twenty_perc = np.nanargmin(np.abs(fi - 0.2*ftot))\n",
    "    Mi = (sorted_values*((xs - center[0])**2 + (ys - center[1])**2))\n",
    "    M20 = np.log10(np.sum(Mi[:twenty_perc])/np.sum(Mi))\n",
    "    return M20"
   ]
  },
  {
   "cell_type": "code",
   "execution_count": 210,
   "metadata": {
    "collapsed": false
   },
   "outputs": [],
   "source": [
    "def gini_petrosian(snap):\n",
    "    snap.set_settings(first_only=True,\n",
    "                 com=True,\n",
    "                 xlen=10,\n",
    "                 ylen=10,\n",
    "                 NBINS=256,\n",
    "                 in_min=-0.2752,\n",
    "                 parttype='stars',\n",
    "                 halo_center_method='tree_halo',\n",
    "                 log_scale=False)\n",
    "\n",
    "    bin_dict = snap.bin_snap()\n",
    "    centerx = (bin_dict['Z2x'][:-1] + bin_dict['Z2x'][1:]) / 2\n",
    "    centery = (bin_dict['Z2y'][:-1] + bin_dict['Z2y'][1:]) / 2\n",
    "    centerX, centerY = np.meshgrid(centerx, centery, indexing='ij')\n",
    "\n",
    "    centerR = np.sqrt(centerX**2 + centerY**2)\n",
    "    rsort = np.argsort(centerR.ravel())\n",
    "    n = 256\n",
    "    stat, bin_edges, binnumber = stats.binned_statistic(centerR.ravel()[rsort], bin_dict['Z2'].ravel()[rsort], bins=n)\n",
    "    avg_brightness = np.cumsum(stat)/(np.arange(n)+1)\n",
    "\n",
    "    brighter_pixels = np.where(avg_brightness*0.2 > stat)[0]\n",
    "    #rp = bin_edges[brighter_pixels[0]]\n",
    "    mu_rp = stat[brighter_pixels[0]]\n",
    "\n",
    "    surface_density = bin_dict['Z2']\n",
    "\n",
    "    gal_pix = surface_density[surface_density > mu_rp]\n",
    "\n",
    "    XBar = np.nanmean(gal_pix)\n",
    "    sorted_values = np.sort(gal_pix.flatten())\n",
    "    n = len(sorted_values)\n",
    "    gini = 1.0/(XBar*n*(n-1))*np.nansum((2.0*np.arange(n)-n-1.0)*sorted_values)\n",
    "    return gini"
   ]
  },
  {
   "cell_type": "code",
   "execution_count": 241,
   "metadata": {
    "collapsed": false
   },
   "outputs": [
    {
     "data": {
      "text/plain": [
       "[<matplotlib.lines.Line2D at 0x142aa290>]"
      ]
     },
     "execution_count": 241,
     "metadata": {},
     "output_type": "execute_result"
    },
    {
     "data": {
      "image/png": "[encoded data removed]",
      "text/plain": [
       "<matplotlib.figure.Figure at 0x2a807410>"
      ]
     },
     "metadata": {},
     "output_type": "display_data"
    }
   ],
   "source": [
    "plt.plot(avg_brightness*0.2)\n",
    "plt.plot(stat)\n",
    "plt.plot((avg_brightness*0.2 > stat)*60)"
   ]
  },
  {
   "cell_type": "code",
   "execution_count": 169,
   "metadata": {
    "collapsed": false
   },
   "outputs": [],
   "source": [
    "def measure_gini(snapname):\n",
    "    snap = snapio.load_snap(snapname)\n",
    "    snap.set_settings(**sim.settings)\n",
    "    return snap.measure_gini()\n",
    " \n",
    "gini_sim = np.empty(82)\n",
    "for i in xrange(82):\n",
    "    snap = snapio.load_snap(folder+\"snap_{:03d}\".format(i))\n",
    "    snap.set_settings(first_only=True,\n",
    "                 com=True,\n",
    "                 xlen=10,\n",
    "                 ylen=10,\n",
    "                 NBINS=256,\n",
    "                 in_min=-0.2752,\n",
    "                 parttype='stars',\n",
    "                 halo_center_method='tree_halo',\n",
    "                 log_scale=False)\n",
    "    gini_sim[i] = snap.measure_gini()\n"
   ]
  },
  {
   "cell_type": "code",
   "execution_count": 235,
   "metadata": {
    "collapsed": false
   },
   "outputs": [],
   "source": [
    "with h5py.File('../Data/morphologyDehnen.hdf5', 'w') as f:\n",
    "    subgrp = f.create_group('main')\n",
    "\n",
    "    dset = subgrp.create_dataset('m20', np.array(m20_sim).shape)\n",
    "    dset[:] = np.array(m20_sim)\n",
    "\n",
    "    dset = subgrp.create_dataset('asymmetry', np.array(a_sim).shape)\n",
    "    dset[:] = np.array(a_sim)\n",
    "\n",
    "    dset = subgrp.create_dataset('gini', np.array(gini_sim).shape)\n",
    "    dset[:] = np.array(gini_sim)\n",
    "\n",
    "    dset = subgrp.create_dataset('concentration', np.array(c_sim).shape)\n",
    "    dset[:] = np.array(c_sim)\n",
    "\n",
    "    subgrp = f.create_group('IC')\n",
    "\n",
    "    dset = subgrp.create_dataset('m20', np.array(m20_ICsim).shape)\n",
    "    dset[:] = np.array(m20_ICsim)\n",
    "\n",
    "    dset = subgrp.create_dataset('asymmetry', np.array(a_ICsim).shape)\n",
    "    dset[:] = np.array(a_ICsim)\n",
    "\n",
    "    dset = subgrp.create_dataset('gini', np.array(gini_ICsim).shape)\n",
    "    dset[:] = np.array(gini_ICsim)\n",
    "\n",
    "    dset = subgrp.create_dataset('concentration', np.array(c_ICsim).shape)\n",
    "    dset[:] = np.array(c_ICsim)"
   ]
  },
  {
   "cell_type": "code",
   "execution_count": 12,
   "metadata": {
    "collapsed": false
   },
   "outputs": [],
   "source": [
    "with h5py.File('../Data/asymmetryDehnen.hdf5', 'w') as f:\n",
    "    subgrp = f.create_group('main')\n",
    "\n",
    "    dset = subgrp.create_dataset('asymmetry', np.array(a_sim).shape)\n",
    "    dset[:] = np.array(a_sim)\n",
    "\n",
    "    subgrp = f.create_group('IC')\n",
    "\n",
    "    dset = subgrp.create_dataset('asymmetry', np.array(a_ICsim).shape)\n",
    "    dset[:] = np.array(a_ICsim)\n",
    "\n",
    "    subgrp = f.create_group('continue')\n",
    "\n",
    "    dset = subgrp.create_dataset('asymmetry', np.array(a_contsim).shape)\n",
    "    dset[:] = np.array(a_contsim)"
   ]
  },
  {
   "cell_type": "code",
   "execution_count": 220,
   "metadata": {
    "collapsed": false
   },
   "outputs": [
    {
     "data": {
      "text/plain": [
       "(0.9, 1.3)"
      ]
     },
     "execution_count": 220,
     "metadata": {},
     "output_type": "execute_result"
    },
    {
     "data": {
      "image/png": "[encoded data removed]",
      "text/plain": [
       "<matplotlib.figure.Figure at 0x2a80bd10>"
      ]
     },
     "metadata": {},
     "output_type": "display_data"
    }
   ],
   "source": [
    "fig, axes = plt.subplots(1,2, figsize=(7, 3.5))\n",
    "\n",
    "axis = axes[0]\n",
    "axis.plot(m20_sim/m20_sim[0], label='m20')\n",
    "axis.plot(a_sim/a_sim[0], label='Asymmetry')\n",
    "axis.plot(gini_sim/gini_sim[0], label='Gini')\n",
    "axis.plot(c_sim/c_sim[0], label='Concentration')\n",
    "axis.legend()\n",
    "\n",
    "\n",
    "axis = axes[1]\n",
    "axis.plot(m20_sim/m20_sim[0], label='m20')\n",
    "axis.plot(a_sim/a_sim[0], label='Asymmetry')\n",
    "axis.plot(gini_sim/gini_sim[0], label='Gini')\n",
    "axis.plot(c_sim/c_sim[0], label='Concentration')\n",
    "axis.set_ylim([0.9, 1.3])"
   ]
  },
  {
   "cell_type": "code",
   "execution_count": 234,
   "metadata": {
    "collapsed": false
   },
   "outputs": [
    {
     "data": {
      "text/plain": [
       "<matplotlib.legend.Legend at 0x2b679650>"
      ]
     },
     "execution_count": 234,
     "metadata": {},
     "output_type": "execute_result"
    },
    {
     "data": {
      "image/png": "[encoded data removed]",
      "text/plain": [
       "<matplotlib.figure.Figure at 0x1590b2d0>"
      ]
     },
     "metadata": {},
     "output_type": "display_data"
    }
   ],
   "source": [
    "fig, axis = plt.subplots(1, figsize=(3.5, 3.5))\n",
    "\n",
    "axis.plot(m20_ICsim/m20_ICsim[0], label='m20')\n",
    "axis.plot(a_ICsim/a_ICsim[0], label='Asymmetry')\n",
    "axis.plot(gini_ICsim/gini_ICsim[0], label='Gini')\n",
    "axis.plot(c_ICsim/c_ICsim[0], label='Concentration')\n",
    "axis.legend(loc='upper left')\n",
    "\n"
   ]
  }
 ],
 "metadata": {
  "celltoolbar": "Mark Child Cells",
  "kernelspec": {
   "display_name": "Python 2",
   "language": "python",
   "name": "python2"
  },
  "language_info": {
   "codemirror_mode": {
    "name": "ipython",
    "version": 2
   },
   "file_extension": ".py",
   "mimetype": "text/x-python",
   "name": "python",
   "nbconvert_exporter": "python",
   "pygments_lexer": "ipython2",
   "version": "2.7.10"
  },
  "toc": {
   "toc_cell": false,
   "toc_number_sections": true,
   "toc_section_display": "none",
   "toc_threshold": 4,
   "toc_window_display": false
  },
  "toc_position": {
   "left": "1720px",
   "right": "20px",
   "top": "120px",
   "width": "157px"
  }
 },
 "nbformat": 4,
 "nbformat_minor": 0
}
