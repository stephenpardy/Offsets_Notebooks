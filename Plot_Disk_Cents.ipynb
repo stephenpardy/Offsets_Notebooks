{
 "metadata": {
  "name": ""
 },
 "nbformat": 3,
 "nbformat_minor": 0,
 "worksheets": [
  {
   "cells": [
    {
     "cell_type": "code",
     "collapsed": false,
     "input": [
      "import numpy as np\n",
      "import matplotlib.pyplot as plt\n",
      "from snap_tools import io\n",
      "%matplotlib inline"
     ],
     "language": "python",
     "metadata": {},
     "outputs": [
      {
       "output_type": "stream",
       "stream": "stderr",
       "text": [
        "/usr/local/lib64/python2.7/site-packages/matplotlib-1.3.1-py2.7-linux-x86_64.egg/matplotlib/__init__.py:740: UserWarning: Found matplotlib configuration in ~/.matplotlib/. To conform with the XDG base directory standard, this configuration location has been deprecated on Linux, and the new location is now '/usr/users/spardy/.config'/matplotlib/. Please move your configuration there to ensure that matplotlib will continue to find it in the future.\n",
        "  _get_xdg_config_dir())\n"
       ]
      }
     ],
     "prompt_number": 1
    },
    {
     "cell_type": "code",
     "collapsed": false,
     "input": [
      "snap = io.load_snap('/usr/users/spardy/coors/gadget/data/output_Dehnen_smc_45deg/snap_004.hdf5')"
     ],
     "language": "python",
     "metadata": {},
     "outputs": [],
     "prompt_number": 4
    },
    {
     "cell_type": "code",
     "collapsed": false,
     "input": [
      "self = snap\n",
      "\n",
      "com1, com2, idgal, idgal2 = self.center_of_mass('halo')\n",
      "com1s, com2s, idgals, idgal2s = self.center_of_mass('stars')"
     ],
     "language": "python",
     "metadata": {},
     "outputs": [],
     "prompt_number": 38
    },
    {
     "cell_type": "code",
     "collapsed": false,
     "input": [
      "x = snap.pos['stars'][idgals, 0]\n",
      "y = snap.pos['stars'][idgals, 1]\n",
      "rs = np.sqrt((x - com1s[0])**2 + (y - com1s[1])**2)"
     ],
     "language": "python",
     "metadata": {},
     "outputs": [],
     "prompt_number": 37
    },
    {
     "cell_type": "code",
     "collapsed": false,
     "input": [
      "\n",
      "r = np.sqrt(np.sum((self.pos['halo'][idgal, :]-com1)**2, axis=1))\n",
      "pot = (self.pot['halo'][idgal[r < 100]])\n",
      "ke = (0.5*self.masses['halo'][idgal[r < 100]] +\n",
      "      np.sum(self.vel['halo'][idgal[r < 100], :]**2, axis=1))\n",
      "binding_energy = ke+pot\n",
      "most_bound = np.argsort(binding_energy)[:100]\n",
      "\n",
      "pot_min = np.argmin(pot)\n",
      "\n",
      "(x_pot,\n",
      " y_pot,\n",
      " z_pot) = (self.pos['halo'][idgal[r < 100][most_bound], :].mean(axis=0) - com1s)\n",
      "\n",
      "(xpot,\n",
      " ypot,\n",
      " zpot) = (self.pos['halo'][idgal[r < 100][pot_min], :] - com1s)"
     ],
     "language": "python",
     "metadata": {},
     "outputs": [],
     "prompt_number": 45
    },
    {
     "cell_type": "code",
     "collapsed": false,
     "input": [
      "plt.plot(x[rs < 2][::1000], y[rs < 2][::1000], 'b.')\n",
      "plt.plot(x[rs > 2][::500], y[rs > 2][::500], 'b.')\n",
      "plt.plot(x[rs > 5][::500], y[rs > 5][::500], 'b.')\n",
      "plt.plot(x_pot, y_pot, 'r+')\n",
      "plt.plot(xpot, ypot, 'k+')"
     ],
     "language": "python",
     "metadata": {},
     "outputs": [
      {
       "metadata": {},
       "output_type": "pyout",
       "prompt_number": 46,
       "text": [
        "[<matplotlib.lines.Line2D at 0xed22f90>]"
       ]
      },
      {
       "metadata": {},
       "output_type": "display_data",
       "png": "[encoded data removed]",
       "text": [
        "<matplotlib.figure.Figure at 0xb5d2190>"
       ]
      }
     ],
     "prompt_number": 46
    },
    {
     "cell_type": "code",
     "collapsed": false,
     "input": [],
     "language": "python",
     "metadata": {},
     "outputs": []
    }
   ],
   "metadata": {}
  }
 ]
}