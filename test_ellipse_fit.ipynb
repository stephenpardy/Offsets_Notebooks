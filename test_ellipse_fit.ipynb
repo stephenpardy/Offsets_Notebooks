{
 "cells": [
  {
   "cell_type": "code",
   "execution_count": 1,
   "metadata": {},
   "outputs": [],
   "source": [
    "import numpy as np\n",
    "import EllipseFitter\n",
    "\n",
    "import matplotlib.pyplot as plt\n",
    "from matplotlib.patches import Ellipse\n",
    "from snaptools import manipulate as man\n",
    "from snaptools import utils\n",
    "from snaptools import snapshot\n",
    "\n",
    "%matplotlib inline\n"
   ]
  },
  {
   "cell_type": "markdown",
   "metadata": {},
   "source": [
    "## Make Gaussian"
   ]
  },
  {
   "cell_type": "code",
   "execution_count": 2,
   "metadata": {},
   "outputs": [
    {
     "name": "stdout",
     "output_type": "stream",
     "text": [
      "-5.043627941 -9.99362000291\n"
     ]
    }
   ],
   "source": [
    "N = 10000\n",
    "\n",
    "x1 = -5\n",
    "dx = 10\n",
    "\n",
    "y1 = -10\n",
    "dy = 5\n",
    "\n",
    "xlen = 50\n",
    "ylen = 50\n",
    "NBINS = 200\n",
    "\n",
    "x = np.random.normal(loc=x1, scale=dx, size=N)\n",
    "y = np.random.normal(loc=y1, scale=dy, size=N)\n",
    "\n",
    "print x.mean(), y.mean()\n",
    "\n",
    "Z, binx, biny = np.histogram2d(x, y, range=[[-xlen, xlen],[-ylen, ylen]], bins=NBINS)\n",
    "xbins, ybins = np.meshgrid(binx, biny, indexing='ij')"
   ]
  },
  {
   "cell_type": "code",
   "execution_count": 3,
   "metadata": {},
   "outputs": [
    {
     "name": "stderr",
     "output_type": "stream",
     "text": [
      "/usr/users/spardy/miniconda3/envs/py2/lib/python2.7/site-packages/matplotlib/__init__.py:1405: UserWarning: \n",
      "This call to matplotlib.use() has no effect because the backend has already\n",
      "been chosen; matplotlib.use() must be called *before* pylab, matplotlib.pyplot,\n",
      "or matplotlib.backends is imported for the first time.\n",
      "\n",
      "  warnings.warn(_use_error_msg)\n"
     ]
    },
    {
     "data": {
      "image/png": "[encoded data removed]",
      "text/plain": [
       "<matplotlib.figure.Figure at 0x7f8cd7c05ad0>"
      ]
     },
     "metadata": {},
     "output_type": "display_data"
    }
   ],
   "source": [
    "snap = snapshot.Snapshot()\n",
    "snap.masses['stars'] = np.ones(N)\n",
    "snap.pos['stars'] = np.zeros((N, 3))\n",
    "snap.pos['stars'][:, 0] = x\n",
    "snap.pos['stars'][:, 1] = y\n",
    "\n",
    "snap.masses['halo'] = np.ones(N)\n",
    "snap.pos['halo'] = np.zeros((N, 3))\n",
    "snap.pos['halo'][:, 0] = x\n",
    "snap.pos['halo'][:, 1] = y\n",
    "\n",
    "snap.header['time'] = 0\n",
    "settings = utils.make_settings(xlen=xlen, ylen=ylen, NBINS=NBINS, log_scale=False, in_min=1, in_max=3,\n",
    "                               halo_center_method='com')\n",
    "fig, axis = plt.subplots(1)\n",
    "cent_dict, ell_arts, im = snap.find_centers(settings=settings, numcontours=1, plot=True, return_im=True, axis=axis)"
   ]
  },
  {
   "cell_type": "code",
   "execution_count": 4,
   "metadata": {},
   "outputs": [
    {
     "name": "stdout",
     "output_type": "stream",
     "text": [
      "{'haloCenter': array([ 0.,  0.]), 'diskCenters': array([-4.897434  , -9.94549095]), 'barCenter': array([-4.897434  , -9.94549095]), 'time': 0}\n"
     ]
    }
   ],
   "source": [
    "print cent_dict"
   ]
  },
  {
   "cell_type": "code",
   "execution_count": null,
   "metadata": {},
   "outputs": [],
   "source": []
  },
  {
   "cell_type": "code",
   "execution_count": 5,
   "metadata": {},
   "outputs": [],
   "source": [
    "iso_contour = Z > 1\n",
    "angle, major, minor, xCenter, yCenter = EllipseFitter.EllipseFitter(iso_contour)\n"
   ]
  },
  {
   "cell_type": "code",
   "execution_count": 6,
   "metadata": {},
   "outputs": [
    {
     "name": "stdout",
     "output_type": "stream",
     "text": [
      "0.461900409549 35.9228084274 18.3067041149 -5.02928363988 -9.90730880929\n"
     ]
    }
   ],
   "source": [
    "yCenter = man.grid_y_to_spatial(yCenter, ylen, NBINS)\n",
    "xCenter = man.grid_x_to_spatial(xCenter, xlen, NBINS)\n",
    "minor = man.grid_length_to_spatial(minor, xlen, NBINS)\n",
    "major = man.grid_length_to_spatial(major, xlen, NBINS)\n",
    "print angle, major, minor, xCenter, yCenter"
   ]
  },
  {
   "cell_type": "code",
   "execution_count": 7,
   "metadata": {
    "collapsed": true
   },
   "outputs": [],
   "source": [
    "e = Ellipse([xCenter, yCenter], major, minor, angle=-angle, fill=False)\n"
   ]
  },
  {
   "cell_type": "code",
   "execution_count": 8,
   "metadata": {},
   "outputs": [
    {
     "data": {
      "text/plain": [
       "<matplotlib.patches.Ellipse at 0x7f8cd7be2cd0>"
      ]
     },
     "execution_count": 8,
     "metadata": {},
     "output_type": "execute_result"
    },
    {
     "data": {
      "image/png": "[encoded data removed]",
      "text/plain": [
       "<matplotlib.figure.Figure at 0x7f8cd7bf73d0>"
      ]
     },
     "metadata": {},
     "output_type": "display_data"
    }
   ],
   "source": [
    "fig, axis = plt.subplots(1)\n",
    "axis.pcolormesh(xbins, ybins, Z > 0)\n",
    "axis.add_artist(e)"
   ]
  },
  {
   "cell_type": "code",
   "execution_count": 9,
   "metadata": {
    "collapsed": true
   },
   "outputs": [],
   "source": [
    "settings = {'in_max': 3, 'in_min': 1, 'ylen': ylen, 'xlen': xlen, 'NBINS': NBINS}\n",
    "measurements = man.fit_contours(Z, settings, numcontours=1)"
   ]
  },
  {
   "cell_type": "code",
   "execution_count": 10,
   "metadata": {},
   "outputs": [
    {
     "name": "stdout",
     "output_type": "stream",
     "text": [
      "{'majors': array([ 35.92280843]), 'eccs': array([ 0.86040417]), 'minors': array([ 18.30670411]), 'axes_ratios': array([ 0.50961227]), 'yCenters': array([-9.90730881]), 'angles': array([ 0.46190041]), 'xCenters': array([-5.02928364])}\n"
     ]
    }
   ],
   "source": [
    "print measurements"
   ]
  },
  {
   "cell_type": "code",
   "execution_count": null,
   "metadata": {
    "collapsed": true
   },
   "outputs": [],
   "source": []
  }
 ],
 "metadata": {
  "kernelspec": {
   "display_name": "Python 2",
   "language": "python",
   "name": "python2"
  },
  "language_info": {
   "codemirror_mode": {
    "name": "ipython",
    "version": 2
   },
   "file_extension": ".py",
   "mimetype": "text/x-python",
   "name": "python",
   "nbconvert_exporter": "python",
   "pygments_lexer": "ipython2",
   "version": "2.7.13"
  },
  "toc": {
   "toc_cell": false,
   "toc_number_sections": true,
   "toc_threshold": 4,
   "toc_window_display": false
  }
 },
 "nbformat": 4,
 "nbformat_minor": 2
}
